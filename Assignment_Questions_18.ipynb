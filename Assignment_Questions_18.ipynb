{
  "nbformat": 4,
  "nbformat_minor": 0,
  "metadata": {
    "colab": {
      "provenance": [],
      "authorship_tag": "ABX9TyMgLgjZE+ZeH7w1y0NzR1JO",
      "include_colab_link": true
    },
    "kernelspec": {
      "name": "python3",
      "display_name": "Python 3"
    },
    "language_info": {
      "name": "python"
    }
  },
  "cells": [
    {
      "cell_type": "markdown",
      "metadata": {
        "id": "view-in-github",
        "colab_type": "text"
      },
      "source": [
        "<a href=\"https://colab.research.google.com/github/CAPTAINY2/Assignment-18---Searching-and-Sorting-/blob/main/Assignment_Questions_18.ipynb\" target=\"_parent\"><img src=\"https://colab.research.google.com/assets/colab-badge.svg\" alt=\"Open In Colab\"/></a>"
      ]
    },
    {
      "cell_type": "markdown",
      "source": [
        "### QUESTION-1"
      ],
      "metadata": {
        "id": "-T9qkp8KgQhO"
      }
    },
    {
      "cell_type": "code",
      "execution_count": 2,
      "metadata": {
        "colab": {
          "base_uri": "https://localhost:8080/"
        },
        "id": "DoDfSNCR-phW",
        "outputId": "871205df-4d09-4f80-eca4-8c4ba1c71a20"
      },
      "outputs": [
        {
          "output_type": "stream",
          "name": "stdout",
          "text": [
            "Output 1:  [[1, 6], [8, 10], [15, 18]]\n",
            "Output 2:  [[1, 5]]\n"
          ]
        }
      ],
      "source": [
        "intervals1 = [[1,3],[2,6],[8,10],[15,18]]\n",
        "intervals2 = [[1,4],[4,5]]\n",
        "\n",
        "def merge(intervals):\n",
        "    intervals.sort(key=lambda x: x[0])\n",
        "    merged = []\n",
        "    curr_interval = intervals[0]\n",
        "\n",
        "    for i in intervals[1:]:\n",
        "        if i[0] <= curr_interval[1]:\n",
        "            curr_interval[1] = max(curr_interval[1], i[1])\n",
        "        else:\n",
        "            merged.append(curr_interval)\n",
        "            curr_interval = i\n",
        "\n",
        "    merged.append(curr_interval)\n",
        "    return merged\n",
        "\n",
        "print(\"Output 1: \", merge(intervals1))\n",
        "print(\"Output 2: \", merge(intervals2))"
      ]
    },
    {
      "cell_type": "markdown",
      "source": [
        "### QUESTION-2"
      ],
      "metadata": {
        "id": "-CNLQkO9gehL"
      }
    },
    {
      "cell_type": "code",
      "source": [
        "nums1 = [2, 0, 2, 1, 1, 0]\n",
        "nums2 = [2,0,1]\n",
        "\n",
        "def colour(nums):\n",
        "    low = 0\n",
        "    high = len(nums) - 1\n",
        "    current = 0\n",
        "\n",
        "    while current <= high:\n",
        "        if nums[current] == 0:\n",
        "            nums[current], nums[low] = nums[low], nums[current]\n",
        "            low += 1\n",
        "            current += 1\n",
        "        elif nums[current] == 1:\n",
        "            current += 1\n",
        "        else:\n",
        "            nums[current], nums[high] = nums[high], nums[current]\n",
        "            high -= 1\n",
        "\n",
        "    return nums\n",
        "\n",
        "print(\"output 1: \", colour(nums1))\n",
        "\n",
        "print(\"output 2: \", colour(nums2))"
      ],
      "metadata": {
        "colab": {
          "base_uri": "https://localhost:8080/"
        },
        "id": "HXSxc4tR-7Qf",
        "outputId": "2fa5d5dd-0c8a-4d3e-e497-a1ee12bb058d"
      },
      "execution_count": 4,
      "outputs": [
        {
          "output_type": "stream",
          "name": "stdout",
          "text": [
            "output 1:  [0, 0, 1, 1, 2, 2]\n",
            "output 2:  [0, 1, 2]\n"
          ]
        }
      ]
    },
    {
      "cell_type": "markdown",
      "source": [
        "### QUESTION-3"
      ],
      "metadata": {
        "id": "7oZv25a8gwyU"
      }
    },
    {
      "cell_type": "code",
      "source": [
        "def bad_version(n):\n",
        "    left = 1\n",
        "    right = n\n",
        "\n",
        "    while left < right:\n",
        "        mid = left + (right - left) // 2\n",
        "        if isbad_version(mid):\n",
        "            right = mid\n",
        "        else:\n",
        "            left = mid + 1\n",
        "\n",
        "    return left\n",
        "n = 5\n",
        "bad = 4\n",
        "\n",
        "print()\n"
      ],
      "metadata": {
        "id": "zi_pHNyXBo8P"
      },
      "execution_count": null,
      "outputs": []
    },
    {
      "cell_type": "markdown",
      "source": [
        "### QUESTION-4"
      ],
      "metadata": {
        "id": "cqIE6LFmgluH"
      }
    },
    {
      "cell_type": "code",
      "source": [
        "nums1 = [3, 6, 9, 1]\n",
        "nums2 = [10]\n",
        "\n",
        "def maximumGap(nums):\n",
        "    if len(nums) < 2:\n",
        "        return 0\n",
        "\n",
        "    max_num = max(nums)\n",
        "    exp = 1\n",
        "    buckets = [0] * 10\n",
        "\n",
        "    while max_num // exp > 0:\n",
        "        buckets = [[] for _ in range(10)]\n",
        "        for i in nums:\n",
        "            bucket_index = (i // exp) % 10\n",
        "            buckets[bucket_index].append(i)\n",
        "\n",
        "        nums = []\n",
        "        for bucket in buckets:\n",
        "            nums.extend(bucket)\n",
        "\n",
        "        exp *= 10\n",
        "\n",
        "    max_gap = 0\n",
        "    for i in range(len(nums) - 1):\n",
        "        max_gap = max(max_gap, nums[i + 1] - nums[i])\n",
        "\n",
        "    return max_gap\n",
        "\n",
        "print(\"Output 1: \", maximumGap(nums1))\n",
        "print(\"Output 2: \", maximumGap(nums2))\n"
      ],
      "metadata": {
        "colab": {
          "base_uri": "https://localhost:8080/"
        },
        "id": "KTcu_R7yYdLp",
        "outputId": "b687fd58-7660-4daf-e5de-0fcda07845f2"
      },
      "execution_count": 8,
      "outputs": [
        {
          "output_type": "stream",
          "name": "stdout",
          "text": [
            "Output 1:  3\n",
            "Output 2:  0\n"
          ]
        }
      ]
    },
    {
      "cell_type": "markdown",
      "source": [
        "### QUESTION-5"
      ],
      "metadata": {
        "id": "3wSDdiIwgoYn"
      }
    },
    {
      "cell_type": "code",
      "source": [
        "nums1 = [1, 2, 3, 1]\n",
        "nums2 = [1,2,3,4]\n",
        "nums3 = [1,1,1,3,3,4,3,2,4,2]\n",
        "\n",
        "def duplicate(nums):\n",
        "    seen = set()\n",
        "    for i in nums:\n",
        "        if i in seen:\n",
        "            return True\n",
        "        seen.add(i)\n",
        "    return False\n",
        "\n",
        "print(\"Output 1: \", duplicate(nums1))\n",
        "print(\"Output 2: \", duplicate(nums2))\n",
        "print(\"Output 3: \", duplicate(nums3))"
      ],
      "metadata": {
        "colab": {
          "base_uri": "https://localhost:8080/"
        },
        "id": "4DFSra8lYfVm",
        "outputId": "a45b514f-243d-4a4b-9f32-dfa7cad2cd09"
      },
      "execution_count": 9,
      "outputs": [
        {
          "output_type": "stream",
          "name": "stdout",
          "text": [
            "Output 1:  True\n",
            "Output 2:  False\n",
            "Output 3:  True\n"
          ]
        }
      ]
    },
    {
      "cell_type": "markdown",
      "source": [
        "### QUESTION-6"
      ],
      "metadata": {
        "id": "6DSs0qzmgqRJ"
      }
    },
    {
      "cell_type": "code",
      "source": [
        "points1= [[10, 16], [2, 8], [1, 6], [7, 12]]\n",
        "points2 = [[1,2],[3,4],[5,6],[7,8]]\n",
        "points3 = [[1,2],[2,3],[3,4],[4,5]]\n",
        "\n",
        "def arrow(points):\n",
        "    if len(points) == 0:\n",
        "        return 0\n",
        "\n",
        "    points.sort(key=lambda x: x[1])\n",
        "    arrows = 1\n",
        "    end = points[0][1]\n",
        "\n",
        "    for i in range(1, len(points)):\n",
        "        if points[i][0] > end:\n",
        "            arrows += 1\n",
        "            end = points[i][1]\n",
        "\n",
        "    return arrows\n",
        "\n",
        "print(\"Output 1: \", arrow(points1))\n",
        "print(\"Output 2: \", arrow(points2))\n",
        "print(\"Output 3: \", arrow(points3))"
      ],
      "metadata": {
        "colab": {
          "base_uri": "https://localhost:8080/"
        },
        "id": "bCWXiNpJdmKb",
        "outputId": "0653b29e-b8c7-40cf-9d42-4098f1a1714a"
      },
      "execution_count": 11,
      "outputs": [
        {
          "output_type": "stream",
          "name": "stdout",
          "text": [
            "Output 1:  2\n",
            "Output 2:  4\n",
            "Output 3:  2\n"
          ]
        }
      ]
    },
    {
      "cell_type": "markdown",
      "source": [
        "### QUESTION-7"
      ],
      "metadata": {
        "id": "E6Tu8Qangs77"
      }
    },
    {
      "cell_type": "code",
      "source": [
        "nums1 = [10, 9, 2, 5, 3, 7, 101, 18]\n",
        "nums2 = [0,1,0,3,2,3]\n",
        "nums3 = [7,7,7,7,7,7,7]\n",
        "\n",
        "def length(nums):\n",
        "    if not nums:\n",
        "        return 0\n",
        "\n",
        "    n = len(nums)\n",
        "    dp = [1] * n\n",
        "\n",
        "    for i in range(1, n):\n",
        "        for j in range(i):\n",
        "            if nums[i] > nums[j]:\n",
        "                dp[i] = max(dp[i], dp[j] + 1)\n",
        "\n",
        "    return max(dp)\n",
        "\n",
        "print(\"Output 1: \", length(nums1))\n",
        "print(\"Output 2: \", length(nums2))\n",
        "print(\"Output 3: \", length(nums3))"
      ],
      "metadata": {
        "colab": {
          "base_uri": "https://localhost:8080/"
        },
        "id": "RutPvXpUew66",
        "outputId": "65f45d3d-31a3-42c6-f340-0bc550796287"
      },
      "execution_count": 12,
      "outputs": [
        {
          "output_type": "stream",
          "name": "stdout",
          "text": [
            "Output 1:  4\n",
            "Output 2:  4\n",
            "Output 3:  1\n"
          ]
        }
      ]
    },
    {
      "cell_type": "markdown",
      "source": [
        "### QUESTION-8"
      ],
      "metadata": {
        "id": "ugY_O0zwgu1P"
      }
    },
    {
      "cell_type": "code",
      "source": [
        "nums1 = [1, 2, 3, 4]\n",
        "nums2 = [3,1,4,2]\n",
        "nums3 = [-1,3,2,0]\n",
        "\n",
        "def pattern(nums):\n",
        "    stack = []\n",
        "    s3 = float('-inf')\n",
        "\n",
        "    for i in reversed(nums):\n",
        "        if i < s3:\n",
        "            return True\n",
        "        while stack and i > stack[-1]:\n",
        "            s3 = stack.pop()\n",
        "        stack.append(i)\n",
        "\n",
        "    return False\n",
        "\n",
        "print(\"Output 1: \", pattern(nums1))\n",
        "print(\"Output 2: \", pattern(nums2))\n",
        "print(\"Output 3: \", pattern(nums3))"
      ],
      "metadata": {
        "colab": {
          "base_uri": "https://localhost:8080/"
        },
        "id": "V_GuNyusfeTc",
        "outputId": "0f9387c2-b4c2-4817-cf05-2b485829d385"
      },
      "execution_count": 14,
      "outputs": [
        {
          "output_type": "stream",
          "name": "stdout",
          "text": [
            "Output 1:  False\n",
            "Output 2:  True\n",
            "Output 3:  True\n"
          ]
        }
      ]
    },
    {
      "cell_type": "code",
      "source": [],
      "metadata": {
        "id": "D_x8ClgsgIIa"
      },
      "execution_count": null,
      "outputs": []
    }
  ]
}